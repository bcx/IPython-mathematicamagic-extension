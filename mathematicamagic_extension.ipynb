{
 "metadata": {
  "name": "mathematicamagic_extension"
 },
 "nbformat": 3,
 "nbformat_minor": 0,
 "worksheets": [
  {
   "cells": [
    {
     "cell_type": "heading",
     "level": 1,
     "metadata": {},
     "source": [
      "mathematicamagic: Mathematica inside IPython"
     ]
    },
    {
     "cell_type": "heading",
     "level": 2,
     "metadata": {},
     "source": [
      "Installation"
     ]
    },
    {
     "cell_type": "markdown",
     "metadata": {},
     "source": [
      "The `mathematicamagic` extension provides the ability to interact with the Mathematica Kernel from within IPython. It depends on the `mathlink` package provided with Mathematica."
     ]
    },
    {
     "cell_type": "code",
     "collapsed": false,
     "input": [
      "import mathlink"
     ],
     "language": "python",
     "metadata": {},
     "outputs": [],
     "prompt_number": 1
    },
    {
     "cell_type": "markdown",
     "metadata": {},
     "source": [
      "If this occurs without Error, you should be set. A large part of this extension is based on the [pythonica](https://github.com/bjedwards/pythonica) package."
     ]
    },
    {
     "cell_type": "markdown",
     "metadata": {},
     "source": [
      "Install the extension as follows\n",
      "TODO: Change this to the github address"
     ]
    },
    {
     "cell_type": "code",
     "collapsed": false,
     "input": [
      "%install_ext file:///nfs/adaptive/bedwards/Documents/Dev/IPython-mathematica-extension/mathematicamagic.py"
     ],
     "language": "python",
     "metadata": {},
     "outputs": [
      {
       "output_type": "stream",
       "stream": "stdout",
       "text": [
        "Installed mathematicamagic.py. To use it, type:\n",
        "  %load_ext mathematicamagic\n"
       ]
      }
     ],
     "prompt_number": 2
    },
    {
     "cell_type": "markdown",
     "metadata": {},
     "source": [
      "And load with"
     ]
    },
    {
     "cell_type": "code",
     "collapsed": false,
     "input": [
      "%load_ext mathematicamagic"
     ],
     "language": "python",
     "metadata": {},
     "outputs": [],
     "prompt_number": 3
    },
    {
     "cell_type": "markdown",
     "metadata": {},
     "source": [
      "`mathematicamagic` comes with three functions: `%mathematica`, `%mathematica_push`, and `%mathematica_pull`. This first function works as a line or a cell magic for executing lines of Mathematica. The second two are for moving objects to and from the Python and Mathematica namespaces. One caveat: The list syntax `{1,2,3}` appears not to play well with the IPython notebook when using the line magic `%mathematica`, however using `List[1,2,3]` works just fine, this is also true of the `Rule` syntax `a->b`, but can be written as Rule[a,b]. Note that the `{1,2,3}` and `1->2` work fine with the cell magic `%%mathematica`. Here are some quick examples."
     ]
    },
    {
     "cell_type": "code",
     "collapsed": false,
     "input": [
      "x = %mathematica List[List[1,2],List[3,4]]\n",
      "x"
     ],
     "language": "python",
     "metadata": {},
     "outputs": [
      {
       "output_type": "pyout",
       "prompt_number": 4,
       "text": [
        "[[1, 2], [3, 4]]"
       ]
      }
     ],
     "prompt_number": 4
    },
    {
     "cell_type": "code",
     "collapsed": false,
     "input": [
      "a = [1,2,3]\n",
      "%mathematica_push a\n",
      "%mathematica a = 2*a;\n",
      "%mathematica_pull a\n",
      "a"
     ],
     "language": "python",
     "metadata": {},
     "outputs": [
      {
       "output_type": "pyout",
       "prompt_number": 5,
       "text": [
        "[2, 4, 6]"
       ]
      }
     ],
     "prompt_number": 5
    },
    {
     "cell_type": "markdown",
     "metadata": {},
     "source": [
      "Many basic python objects can be converted to Mathematica Types. See the [pythonica README](https://github.com/bjedwards/pythonica/blob/master/README.rst) for more information."
     ]
    },
    {
     "cell_type": "heading",
     "level": 2,
     "metadata": {},
     "source": [
      "Input and Output"
     ]
    },
    {
     "cell_type": "markdown",
     "metadata": {},
     "source": [
      "Data can be sent to the Mathematica Kernel with `%mathematica_push`, or gotten from the kernel with `%mathematica_pull`. Similarly the `-o` and `-i` flags will push and pull any data using `%mathematica`. For example"
     ]
    },
    {
     "cell_type": "code",
     "collapsed": false,
     "input": [
      "b = range(10)\n",
      "%mathematica_push b\n",
      "%mathematica c = b*b;\n",
      "%mathematica_pull c\n",
      "c"
     ],
     "language": "python",
     "metadata": {},
     "outputs": [
      {
       "output_type": "pyout",
       "prompt_number": 6,
       "text": [
        "[0, 1, 4, 9, 16, 25, 36, 49, 64, 81]"
       ]
      }
     ],
     "prompt_number": 6
    },
    {
     "cell_type": "markdown",
     "metadata": {},
     "source": [
      "is equivalent to"
     ]
    },
    {
     "cell_type": "code",
     "collapsed": false,
     "input": [
      "b = range(10)\n",
      "%mathematica -i b -o c c=b*b;\n",
      "c"
     ],
     "language": "python",
     "metadata": {},
     "outputs": [
      {
       "output_type": "pyout",
       "prompt_number": 7,
       "text": [
        "[0, 1, 4, 9, 16, 25, 36, 49, 64, 81]"
       ]
      }
     ],
     "prompt_number": 7
    },
    {
     "cell_type": "heading",
     "level": 2,
     "metadata": {},
     "source": [
      "Output"
     ]
    },
    {
     "cell_type": "markdown",
     "metadata": {},
     "source": [
      "`mathematicamagic` supports many 3 types of formatted output, 'input' which returns a string suitable as Mathematica input, 'tex' which returns a string which is then rendered as latex, 'plain' which the raw string that the Mathematica Kernel returns and looks good using the `print` function."
     ]
    },
    {
     "cell_type": "code",
     "collapsed": false,
     "input": [
      "%mathematica -t input D[Log[x],x]"
     ],
     "language": "python",
     "metadata": {},
     "outputs": [
      {
       "output_type": "pyout",
       "prompt_number": 8,
       "text": [
        "'x^(-1)'"
       ]
      }
     ],
     "prompt_number": 8
    },
    {
     "cell_type": "code",
     "collapsed": false,
     "input": [
      "x = %mathematica -t plain D[Log[x],x]\n",
      "print(x)"
     ],
     "language": "python",
     "metadata": {},
     "outputs": [
      {
       "output_type": "stream",
       "stream": "stdout",
       "text": [
        "1\n",
        "-\n",
        "x\n"
       ]
      }
     ],
     "prompt_number": 9
    },
    {
     "cell_type": "code",
     "collapsed": false,
     "input": [
      "x = %mathematica -t plain Series[f[x],List[x,0,4]]\n",
      "print(x)"
     ],
     "language": "python",
     "metadata": {},
     "outputs": [
      {
       "output_type": "stream",
       "stream": "stdout",
       "text": [
        "                  2           3  (3)       4  (4)\n",
        "                 x  f''[0]   x  f   [0]   x  f   [0]       5\n",
        "f[0] + f'[0] x + --------- + ---------- + ---------- + O[x]\n",
        "                     2           6            24\n"
       ]
      }
     ],
     "prompt_number": 10
    },
    {
     "cell_type": "code",
     "collapsed": false,
     "input": [
      "%mathematica -t tex D[Log[x],x]"
     ],
     "language": "python",
     "metadata": {},
     "outputs": [
      {
       "latex": [
        "$\\frac{1}{x}$"
       ],
       "output_type": "display_data"
      }
     ],
     "prompt_number": 11
    },
    {
     "cell_type": "code",
     "collapsed": false,
     "input": [
      "%mathematica -t tex Series[f[x],List[x,0,4]]"
     ],
     "language": "python",
     "metadata": {},
     "outputs": [
      {
       "latex": [
        "$f(0)+x f'(0)+\\frac{1}{2} x^2 f''(0)+\\frac{1}{6} f^{(3)}(0) x^3+\\frac{1}{24} f^{(4)}(0) x^4+O\\left(x^5\\right)$"
       ],
       "output_type": "display_data"
      }
     ],
     "prompt_number": 12
    },
    {
     "cell_type": "markdown",
     "metadata": {},
     "source": [
      "Note that when a Mathematica statement ends in ';' no output is produced and there is therefor nothing for IPython to capture"
     ]
    },
    {
     "cell_type": "code",
     "collapsed": false,
     "input": [
      "x = %mathematica X = 5;\n",
      "print(x)"
     ],
     "language": "python",
     "metadata": {},
     "outputs": [
      {
       "output_type": "stream",
       "stream": "stdout",
       "text": [
        "None\n"
       ]
      }
     ],
     "prompt_number": 13
    },
    {
     "cell_type": "heading",
     "level": 2,
     "metadata": {},
     "source": [
      "Plotting"
     ]
    },
    {
     "cell_type": "markdown",
     "metadata": {},
     "source": [
      "Plot output is captured and displayed. The -f flag allows you to choose your format. Currently png, svg, bmp, and jpeg are supported (have been tested), but other formats may work, depending on you Mathematica install. Bug, svg images are way larger than there bounds."
     ]
    },
    {
     "cell_type": "code",
     "collapsed": false,
     "input": [
      "%%mathematica -f png\n",
      "Plot[Sin[x],{x,0,10}]"
     ],
     "language": "python",
     "metadata": {},
     "outputs": [
      {
       "output_type": "display_data",
       "png": "[encoded data removed]"
      }
     ],
     "prompt_number": 14
    },
    {
     "cell_type": "code",
     "collapsed": false,
     "input": [
      "%%mathematica -f svg\n",
      "Plot[Cos[x],{x,0,10}]"
     ],
     "language": "python",
     "metadata": {},
     "outputs": [
      {
       "output_type": "display_data",
       "svg": [
        "<!DOCTYPE svg PUBLIC \"-//W3C//DTD SVG 1.1//EN\" \"http://www.w3.org/Graphics/SVG/1.1/DTD/svg11.dtd\">\n",
        "<svg version='1.1' xmlns='http://www.w3.org/2000/svg' xmlns:xlink='http://www.w3.org/1999/xlink'>\n",
        "<g transform='translate(-522.000000, -113.000000)'>\n",
        "<g transform='matrix(1.000000, 0.000000, 0.000000, 1.000000, 0.000000, 0.000000)' clip-path='url(#cp1)'>\n",
        "<clipPath id='cp1'><polygon points='448,100 448,2.2518e+15 998,2.2518e+15 998,100 ' /></clipPath>\n",
        "<rect fill='rgb(100%,100%,100%)' stroke='none' x='-2.2518e+15' y='-2.2518e+15' width='4.5036e+15' height='4.5036e+15' />\n",
        "</g>\n",
        "<g transform='matrix(1.000000, 0.000000, 0.000000, 1.000000, 0.000000, 0.000000)' clip-path='url(#cp2)'>\n",
        "<clipPath id='cp2'><polygon points='448,100 448,2.2518e+15 998,2.2518e+15 998,100 ' /></clipPath>\n",
        "<path stroke='none' opacity='1' fill='rgb(38.4314%,54.902%,69.8039%)' fill-rule='evenodd' d='M 0,0 '/>\n",
        "</g>\n",
        "<g transform='matrix(1.000000, 0.000000, 0.000000, 1.000000, 0.000000, 0.000000)' clip-path='url(#cp3)'>\n",
        "<clipPath id='cp3'><polygon points='448,105 448,333 998,333 998,105 ' /></clipPath>\n",
        "<rect fill='rgb(100%,100%,100%)' stroke='none' x='514' y='105' width='474' height='228' />\n",
        "</g>\n",
        "<g transform='matrix(1.000000, 0.000000, 0.000000, 1.000000, 0.000000, 0.000000)' clip-path='url(#cp4)'>\n",
        "<clipPath id='cp4'><polygon points='545,114 545,323 881,323 881,114 ' /></clipPath>\n",
        "<polyline fill='none' stroke-opacity='1' stroke-width='1px' stroke='rgb(24.7181%,23.9994%,60%)' points='552,119 552.099,119 552.198,119.002 552.296,119.004 552.395,119.007 552.494,119.012 552.593,119.017 552.692,119.023 552.791,119.03 552.889,119.038 552.988,119.047 553.087,119.057 553.186,119.067 553.285,119.079 553.383,119.092 553.581,119.12 553.68,119.135 553.779,119.152 553.976,119.187 554.075,119.206 554.174,119.227 554.372,119.27 554.47,119.293 554.569,119.316 554.767,119.367 555.162,119.479 555.261,119.509 555.36,119.541 555.557,119.606 555.953,119.748 556.051,119.786 556.15,119.825 556.348,119.905 556.743,120.077 556.842,120.122 556.941,120.168 557.138,120.263 557.534,120.465 558.324,120.912 558.431,120.977 558.538,121.043 558.753,121.179 559.181,121.463 560.038,122.082 560.145,122.165 560.252,122.248 560.467,122.418 560.895,122.77 561.752,123.526 561.859,123.625 561.966,123.726 562.181,123.929 562.609,124.349 563.466,125.239 565.18,127.215 565.28,127.339 565.38,127.463 565.58,127.714 565.98,128.227 566.781,129.294 568.381,131.594 568.481,131.744 568.581,131.896 568.781,132.202 569.181,132.824 569.981,134.107 571.582,136.83 571.68,137.003 571.778,137.177 571.974,137.528 572.366,138.238 573.151,139.694 574.72,142.746 577.858,149.381 577.964,149.617 578.071,149.855 578.284,150.332 578.709,151.296 579.56,153.258 581.262,157.317 584.666,165.937 591.02,183.516 597.906,204.078 604.666,224.912 610.971,244.113 617.809,263.809 624.193,280.38 624.29,280.617 624.388,280.853 624.584,281.323 624.975,282.257 625.757,284.096 627.322,287.656 627.419,287.874 627.517,288.09 627.713,288.521 628.104,289.376 628.886,291.054 630.45,294.281 630.557,294.494 630.663,294.705 630.875,295.126 631.299,295.958 632.148,297.58 633.845,300.66 633.951,300.845 634.058,301.03 634.27,301.395 634.694,302.115 635.543,303.512 637.24,306.129 637.339,306.274 637.438,306.418 637.636,306.704 638.032,307.267 638.824,308.351 638.923,308.483 639.022,308.614 639.22,308.873 639.616,309.381 640.408,310.356 640.507,310.474 640.606,310.591 640.804,310.823 641.2,311.276 641.992,312.14 643.576,313.697 643.683,313.794 643.79,313.891 644.005,314.08 644.434,314.445 645.292,315.126 645.4,315.206 645.507,315.285 645.722,315.44 646.151,315.737 647.009,316.28 647.117,316.343 647.224,316.405 647.439,316.525 647.868,316.753 647.975,316.808 648.082,316.861 648.297,316.964 648.726,317.157 648.833,317.202 648.941,317.247 649.155,317.332 649.263,317.374 649.37,317.414 649.585,317.49 649.692,317.527 649.799,317.563 650.014,317.631 650.443,317.754 650.548,317.781 650.654,317.808 650.864,317.857 650.97,317.881 651.075,317.903 651.286,317.944 651.391,317.963 651.496,317.981 651.602,317.998 651.707,318.014 651.812,318.028 651.918,318.042 652.023,318.055 652.128,318.066 652.234,318.077 652.339,318.086 652.444,318.094 652.55,318.102 652.655,318.108 652.761,318.113 652.866,318.117 652.971,318.12 653.077,318.122 653.182,318.123 653.287,318.123 653.393,318.122 653.498,318.119 653.603,318.116 653.709,318.111 653.814,318.106 653.919,318.099 654.025,318.092 654.13,318.083 654.235,318.073 654.341,318.063 654.446,318.051 654.657,318.024 654.762,318.009 654.867,317.993 655.078,317.957 655.183,317.938 655.289,317.918 655.499,317.874 655.605,317.85 655.71,317.825 655.921,317.773 656.026,317.745 656.131,317.716 656.342,317.655 656.447,317.623 656.553,317.59 656.763,317.521 657.185,317.369 657.283,317.332 657.381,317.293 657.578,317.213 657.971,317.042 658.069,316.997 658.167,316.951 658.364,316.856 658.757,316.656 658.855,316.603 658.953,316.55 659.15,316.441 659.543,316.211 660.329,315.708 660.427,315.641 660.525,315.574 660.722,315.435 661.114,315.148 661.9,314.53 661.999,314.449 662.097,314.366 662.293,314.199 662.686,313.855 663.472,313.123 663.579,313.02 663.685,312.915 663.899,312.703 664.325,312.266 665.177,311.343 666.882,309.303 666.989,309.167 667.095,309.03 667.308,308.753 667.734,308.188 668.587,307.009 670.292,304.468 670.391,304.312 670.491,304.155 670.69,303.84 671.087,303.199 671.883,301.879 673.474,299.086 676.657,292.919 676.765,292.697 676.872,292.475 677.088,292.027 677.519,291.121 678.381,289.271 680.105,285.421 683.554,277.157 690.325,259.075 696.642,240.581 703.491,219.6 709.886,199.949 716.155,181.389 722.956,162.862 723.056,162.608 723.155,162.355 723.353,161.85 723.75,160.847 724.543,158.867 726.13,155.017 729.303,147.788 729.411,147.555 729.518,147.322 729.733,146.86 730.163,145.944 731.023,144.153 732.742,140.73 732.85,140.523 732.957,140.317 733.172,139.908 733.602,139.101 734.462,137.528 736.182,134.558 736.287,134.383 736.393,134.209 736.604,133.865 737.026,133.186 737.87,131.874 739.558,129.428 739.664,129.283 739.769,129.14 739.98,128.855 740.403,128.297 741.247,127.227 742.935,125.277 743.033,125.171 743.132,125.066 743.329,124.859 743.722,124.455 744.51,123.688 744.608,123.597 744.707,123.506 744.903,123.327 745.297,122.979 746.084,122.327 746.183,122.249 746.281,122.173 746.478,122.022 746.872,121.732 746.97,121.661 747.069,121.592 747.265,121.456 747.659,121.195 747.757,121.132 747.856,121.07 748.053,120.948 748.446,120.716 749.234,120.295 749.34,120.243 749.447,120.191 749.661,120.092 750.088,119.906 750.194,119.862 750.301,119.819 750.515,119.737 750.941,119.585 751.048,119.55 751.155,119.516 751.368,119.451 751.475,119.42 751.582,119.391 751.795,119.334 751.902,119.308 752.009,119.283 752.222,119.235 752.329,119.213 752.436,119.192 752.649,119.153 752.756,119.135 752.863,119.119 752.969,119.103 753.076,119.089 753.183,119.075 753.29,119.063 753.396,119.052 753.503,119.042 753.61,119.033 753.716,119.025 753.823,119.018 753.93,119.012 754.037,119.008 754.143,119.004 754.25,119.002 754.357,119 754.464,119 754.57,119.001 754.677,119.003 754.784,119.006 754.89,119.01 754.997,119.015 755.104,119.021 755.211,119.029 755.317,119.037 755.424,119.047 755.531,119.057 755.638,119.069 755.744,119.082 755.851,119.096 756.064,119.127 756.164,119.143 756.264,119.16 756.463,119.197 756.563,119.217 756.662,119.237 756.862,119.282 756.961,119.306 757.061,119.33 757.26,119.382 757.659,119.497 757.758,119.529 757.858,119.561 758.057,119.628 758.456,119.774 758.555,119.812 758.655,119.852 758.854,119.934 759.253,120.11 759.352,120.157 759.452,120.204 759.651,120.301 760.05,120.507 760.149,120.561 760.249,120.616 760.448,120.728 760.847,120.964 760.946,121.025 761.046,121.088 761.245,121.215 761.644,121.481 762.441,122.057 762.539,122.131 762.636,122.207 762.832,122.361 763.222,122.679 764.004,123.357 764.101,123.446 764.199,123.536 764.394,123.717 764.785,124.092 765.566,124.882 765.664,124.984 765.762,125.088 765.957,125.297 766.348,125.727 767.129,126.626 768.692,128.587 768.798,128.728 768.904,128.87 769.116,129.156 769.54,129.74 770.387,130.954 772.083,133.564 772.189,133.735 772.295,133.907 772.507,134.253 772.931,134.958 773.779,136.409 775.474,139.482 775.573,139.668 775.672,139.854 775.87,140.23 776.266,140.99 777.057,142.546 778.639,145.794 781.803,152.807 781.91,153.056 782.017,153.306 782.232,153.808 782.66,154.82 783.518,156.878 785.233,161.124 788.663,170.091 795.069,188.223 801.35,207.166 808.162,228.177 814.52,247.42 821.41,266.985 821.516,267.27 821.622,267.554 821.833,268.122 822.256,269.251 823.101,271.482 824.793,275.833 828.175,284.052 828.273,284.281 828.372,284.51 828.569,284.965 828.964,285.868 829.752,287.644 831.33,291.07 831.428,291.278 831.527,291.486 831.724,291.899 832.119,292.718 832.907,294.322 834.485,297.393 834.592,297.594 834.699,297.795 834.913,298.193 835.34,298.979 836.195,300.509 837.906,303.394 838.013,303.566 838.12,303.738 838.334,304.078 838.761,304.747 839.616,306.04 841.327,308.439 841.427,308.572 841.527,308.703 841.726,308.963 842.125,309.473 842.924,310.451 843.024,310.569 843.124,310.687 843.323,310.919 843.722,311.373 844.521,312.237 844.621,312.341 844.72,312.444 844.92,312.648 845.319,313.044 846.118,313.793 846.218,313.882 846.317,313.971 846.517,314.145 846.916,314.483 847.715,315.115 847.813,315.188 847.91,315.261 848.106,315.403 848.497,315.676 848.595,315.743 848.693,315.808 848.889,315.936 849.28,316.181 849.378,316.24 849.476,316.298 849.672,316.411 850.063,316.627 850.846,317.016 850.944,317.06 851.041,317.104 851.237,317.189 851.629,317.347 851.726,317.384 851.824,317.42 852.02,317.49 852.411,317.619 852.509,317.649 852.607,317.678 852.803,317.733 852.901,317.759 852.998,317.785 853.194,317.833 853.292,317.855 853.39,317.877 853.585,317.918 853.683,317.937 853.781,317.955 853.977,317.988 854.083,318.005 854.189,318.02 854.295,318.034 854.401,318.048 854.508,318.06 854.614,318.071 854.72,318.081 854.826,318.09 854.932,318.098 855.038,318.105 855.145,318.111 855.251,318.115 855.357,318.119 855.463,318.121 855.569,318.123 855.675,318.123 855.782,318.122 855.888,318.12 855.994,318.117 856.1,318.113 856.206,318.108 856.312,318.102 856.418,318.095 856.525,318.087 856.631,318.077 856.737,318.067 856.843,318.055 856.949,318.043 857.055,318.029 857.162,318.014 857.374,317.981 857.48,317.963 857.586,317.944 857.799,317.903 857.905,317.88 858.011,317.857 858.223,317.807 858.329,317.78 858.435,317.752 858.648,317.694 859.072,317.563 859.179,317.528 859.285,317.492 859.497,317.416 859.922,317.251 860.028,317.207 860.134,317.162 860.346,317.069 860.771,316.87 860.87,316.822 860.969,316.772 861.167,316.669 861.563,316.453 862.356,315.977 862.455,315.914 862.554,315.849 862.752,315.717 863.148,315.442 863.941,314.849 864.04,314.77 864.139,314.691 864.337,314.53 864.733,314.197 865.526,313.487 867.111,311.895 867.221,311.776 867.332,311.655 867.553,311.411 867.995,310.909 868.88,309.852 870.649,307.534 870.76,307.38 870.87,307.225 871.092,306.912 871.534,306.274 872.418,304.948 872.529,304.777 872.64,304.606 872.861,304.26 873.303,303.556 873.414,303.378 873.524,303.198 873.745,302.836 873.856,302.654 873.967,302.471 874.077,302.286 874.188,302.101 ' />\n",
        "</g>\n",
        "<g transform='matrix(1.000000, 0.000000, 0.000000, 1.000000, 0.000000, 0.000000)' clip-path='url(#cp5)'>\n",
        "<clipPath id='cp5'><polygon points='522,113 522,325 882,325 882,113 ' /></clipPath>\n",
        "<polyline fill='none' stroke-opacity='1' stroke-width='0.2px' stroke='rgb(0%,0%,0%)' points='552,218.562 552,214.587 ' />\n",
        "</g>\n",
        "<g transform='matrix(1.000000, 0.000000, 0.000000, 1.000000, 0.000000, 0.000000)' clip-path='url(#cp6)'>\n",
        "<clipPath id='cp6'><polygon points='522,113 522,325 882,325 882,113 ' /></clipPath>\n",
        "<polyline fill='none' stroke-opacity='1' stroke-width='0.2px' stroke='rgb(0%,0%,0%)' points='568.109,218.562 568.109,216.177 ' />\n",
        "</g>\n",
        "<g transform='matrix(1.000000, 0.000000, 0.000000, 1.000000, 0.000000, 0.000000)' clip-path='url(#cp7)'>\n",
        "<clipPath id='cp7'><polygon points='522,113 522,325 882,325 882,113 ' /></clipPath>\n",
        "<polyline fill='none' stroke-opacity='1' stroke-width='0.2px' stroke='rgb(0%,0%,0%)' points='584.219,218.562 584.219,216.177 ' />\n",
        "</g>\n",
        "<g transform='matrix(1.000000, 0.000000, 0.000000, 1.000000, 0.000000, 0.000000)' clip-path='url(#cp8)'>\n",
        "<clipPath id='cp8'><polygon points='522,113 522,325 882,325 882,113 ' /></clipPath>\n",
        "<polyline fill='none' stroke-opacity='1' stroke-width='0.2px' stroke='rgb(0%,0%,0%)' points='600.328,218.562 600.328,216.177 ' />\n",
        "</g>\n",
        "<g transform='matrix(1.000000, 0.000000, 0.000000, 1.000000, 0.000000, 0.000000)' clip-path='url(#cp9)'>\n",
        "<clipPath id='cp9'><polygon points='522,113 522,325 882,325 882,113 ' /></clipPath>\n",
        "<polyline fill='none' stroke-opacity='1' stroke-width='0.2px' stroke='rgb(0%,0%,0%)' points='616.438,218.562 616.438,214.587 ' />\n",
        "</g>\n",
        "<g transform='matrix(1.000000, 0.000000, 0.000000, 1.000000, 612.437551, 221.561502)' clip-path='url(#cp10)'>\n",
        "<clipPath id='cp10'><polygon points='-1.43755,-0.561502 -1.43755,13.4385 8.56245,13.4385 8.56245,-0.561502 ' /></clipPath>\n",
        "<text x='1' y='10' font-family='Times' font-size='10px' fill='rgb(0%,0%,0%)'>2</text>\n",
        "</g>\n",
        "<g transform='matrix(1.000000, 0.000000, 0.000000, 1.000000, 0.000000, 0.000000)' clip-path='url(#cp11)'>\n",
        "<clipPath id='cp11'><polygon points='522,113 522,325 882,325 882,113 ' /></clipPath>\n",
        "<polyline fill='none' stroke-opacity='1' stroke-width='0.2px' stroke='rgb(0%,0%,0%)' points='632.547,218.562 632.547,216.177 ' />\n",
        "</g>\n",
        "<g transform='matrix(1.000000, 0.000000, 0.000000, 1.000000, 0.000000, 0.000000)' clip-path='url(#cp12)'>\n",
        "<clipPath id='cp12'><polygon points='522,113 522,325 882,325 882,113 ' /></clipPath>\n",
        "<polyline fill='none' stroke-opacity='1' stroke-width='0.2px' stroke='rgb(0%,0%,0%)' points='648.656,218.562 648.656,216.177 ' />\n",
        "</g>\n",
        "<g transform='matrix(1.000000, 0.000000, 0.000000, 1.000000, 0.000000, 0.000000)' clip-path='url(#cp13)'>\n",
        "<clipPath id='cp13'><polygon points='522,113 522,325 882,325 882,113 ' /></clipPath>\n",
        "<polyline fill='none' stroke-opacity='1' stroke-width='0.2px' stroke='rgb(0%,0%,0%)' points='664.766,218.562 664.766,216.177 ' />\n",
        "</g>\n",
        "<g transform='matrix(1.000000, 0.000000, 0.000000, 1.000000, 0.000000, 0.000000)' clip-path='url(#cp14)'>\n",
        "<clipPath id='cp14'><polygon points='522,113 522,325 882,325 882,113 ' /></clipPath>\n",
        "<polyline fill='none' stroke-opacity='1' stroke-width='0.2px' stroke='rgb(0%,0%,0%)' points='680.875,218.562 680.875,214.587 ' />\n",
        "</g>\n",
        "<g transform='matrix(1.000000, 0.000000, 0.000000, 1.000000, 676.875102, 221.561502)' clip-path='url(#cp15)'>\n",
        "<clipPath id='cp15'><polygon points='-0.875102,-0.561502 -0.875102,13.4385 9.1249,13.4385 9.1249,-0.561502 ' /></clipPath>\n",
        "<text x='1' y='10' font-family='Times' font-size='10px' fill='rgb(0%,0%,0%)'>4</text>\n",
        "</g>\n",
        "<g transform='matrix(1.000000, 0.000000, 0.000000, 1.000000, 0.000000, 0.000000)' clip-path='url(#cp16)'>\n",
        "<clipPath id='cp16'><polygon points='522,113 522,325 882,325 882,113 ' /></clipPath>\n",
        "<polyline fill='none' stroke-opacity='1' stroke-width='0.2px' stroke='rgb(0%,0%,0%)' points='696.984,218.562 696.984,216.177 ' />\n",
        "</g>\n",
        "<g transform='matrix(1.000000, 0.000000, 0.000000, 1.000000, 0.000000, 0.000000)' clip-path='url(#cp17)'>\n",
        "<clipPath id='cp17'><polygon points='522,113 522,325 882,325 882,113 ' /></clipPath>\n",
        "<polyline fill='none' stroke-opacity='1' stroke-width='0.2px' stroke='rgb(0%,0%,0%)' points='713.094,218.562 713.094,216.177 ' />\n",
        "</g>\n",
        "<g transform='matrix(1.000000, 0.000000, 0.000000, 1.000000, 0.000000, 0.000000)' clip-path='url(#cp18)'>\n",
        "<clipPath id='cp18'><polygon points='522,113 522,325 882,325 882,113 ' /></clipPath>\n",
        "<polyline fill='none' stroke-opacity='1' stroke-width='0.2px' stroke='rgb(0%,0%,0%)' points='729.203,218.562 729.203,216.177 ' />\n",
        "</g>\n",
        "<g transform='matrix(1.000000, 0.000000, 0.000000, 1.000000, 0.000000, 0.000000)' clip-path='url(#cp19)'>\n",
        "<clipPath id='cp19'><polygon points='522,113 522,325 882,325 882,113 ' /></clipPath>\n",
        "<polyline fill='none' stroke-opacity='1' stroke-width='0.2px' stroke='rgb(0%,0%,0%)' points='745.313,218.562 745.313,214.587 ' />\n",
        "</g>\n",
        "<g transform='matrix(1.000000, 0.000000, 0.000000, 1.000000, 741.312653, 221.561502)' clip-path='url(#cp20)'>\n",
        "<clipPath id='cp20'><polygon points='-1.31265,-0.561502 -1.31265,13.4385 8.68735,13.4385 8.68735,-0.561502 ' /></clipPath>\n",
        "<text x='1' y='10' font-family='Times' font-size='10px' fill='rgb(0%,0%,0%)'>6</text>\n",
        "</g>\n",
        "<g transform='matrix(1.000000, 0.000000, 0.000000, 1.000000, 0.000000, 0.000000)' clip-path='url(#cp21)'>\n",
        "<clipPath id='cp21'><polygon points='522,113 522,325 882,325 882,113 ' /></clipPath>\n",
        "<polyline fill='none' stroke-opacity='1' stroke-width='0.2px' stroke='rgb(0%,0%,0%)' points='761.422,218.562 761.422,216.177 ' />\n",
        "</g>\n",
        "<g transform='matrix(1.000000, 0.000000, 0.000000, 1.000000, 0.000000, 0.000000)' clip-path='url(#cp22)'>\n",
        "<clipPath id='cp22'><polygon points='522,113 522,325 882,325 882,113 ' /></clipPath>\n",
        "<polyline fill='none' stroke-opacity='1' stroke-width='0.2px' stroke='rgb(0%,0%,0%)' points='777.531,218.562 777.531,216.177 ' />\n",
        "</g>\n",
        "<g transform='matrix(1.000000, 0.000000, 0.000000, 1.000000, 0.000000, 0.000000)' clip-path='url(#cp23)'>\n",
        "<clipPath id='cp23'><polygon points='522,113 522,325 882,325 882,113 ' /></clipPath>\n",
        "<polyline fill='none' stroke-opacity='1' stroke-width='0.2px' stroke='rgb(0%,0%,0%)' points='793.641,218.562 793.641,216.177 ' />\n",
        "</g>\n",
        "<g transform='matrix(1.000000, 0.000000, 0.000000, 1.000000, 0.000000, 0.000000)' clip-path='url(#cp24)'>\n",
        "<clipPath id='cp24'><polygon points='522,113 522,325 882,325 882,113 ' /></clipPath>\n",
        "<polyline fill='none' stroke-opacity='1' stroke-width='0.2px' stroke='rgb(0%,0%,0%)' points='809.75,218.562 809.75,214.587 ' />\n",
        "</g>\n",
        "<g transform='matrix(1.000000, 0.000000, 0.000000, 1.000000, 805.750204, 221.561502)' clip-path='url(#cp25)'>\n",
        "<clipPath id='cp25'><polygon points='-0.750204,-0.561502 -0.750204,13.4385 9.2498,13.4385 9.2498,-0.561502 ' /></clipPath>\n",
        "<text x='1' y='10' font-family='Times' font-size='10px' fill='rgb(0%,0%,0%)'>8</text>\n",
        "</g>\n",
        "<g transform='matrix(1.000000, 0.000000, 0.000000, 1.000000, 0.000000, 0.000000)' clip-path='url(#cp26)'>\n",
        "<clipPath id='cp26'><polygon points='522,113 522,325 882,325 882,113 ' /></clipPath>\n",
        "<polyline fill='none' stroke-opacity='1' stroke-width='0.2px' stroke='rgb(0%,0%,0%)' points='825.86,218.562 825.86,216.177 ' />\n",
        "</g>\n",
        "<g transform='matrix(1.000000, 0.000000, 0.000000, 1.000000, 0.000000, 0.000000)' clip-path='url(#cp27)'>\n",
        "<clipPath id='cp27'><polygon points='522,113 522,325 882,325 882,113 ' /></clipPath>\n",
        "<polyline fill='none' stroke-opacity='1' stroke-width='0.2px' stroke='rgb(0%,0%,0%)' points='841.969,218.562 841.969,216.177 ' />\n",
        "</g>\n",
        "<g transform='matrix(1.000000, 0.000000, 0.000000, 1.000000, 0.000000, 0.000000)' clip-path='url(#cp28)'>\n",
        "<clipPath id='cp28'><polygon points='522,113 522,325 882,325 882,113 ' /></clipPath>\n",
        "<polyline fill='none' stroke-opacity='1' stroke-width='0.2px' stroke='rgb(0%,0%,0%)' points='858.078,218.562 858.078,216.177 ' />\n",
        "</g>\n",
        "<g transform='matrix(1.000000, 0.000000, 0.000000, 1.000000, 0.000000, 0.000000)' clip-path='url(#cp29)'>\n",
        "<clipPath id='cp29'><polygon points='522,113 522,325 882,325 882,113 ' /></clipPath>\n",
        "<polyline fill='none' stroke-opacity='1' stroke-width='0.2px' stroke='rgb(0%,0%,0%)' points='874.188,218.562 874.188,214.587 ' />\n",
        "</g>\n",
        "<g transform='matrix(1.000000, 0.000000, 0.000000, 1.000000, 867.687755, 221.561502)' clip-path='url(#cp30)'>\n",
        "<clipPath id='cp30'><polygon points='-0.687755,-0.561502 -0.687755,13.4385 14.3122,13.4385 14.3122,-0.561502 ' /></clipPath>\n",
        "<text x='0' y='10' font-family='Times' font-size='10px' fill='rgb(0%,0%,0%)'>10</text>\n",
        "</g>\n",
        "<g transform='matrix(1.000000, 0.000000, 0.000000, 1.000000, 0.000000, 0.000000)' clip-path='url(#cp31)'>\n",
        "<clipPath id='cp31'><polygon points='522,113 522,325 882,325 882,113 ' /></clipPath>\n",
        "<polyline fill='none' stroke-opacity='1' stroke-width='0.2px' stroke='rgb(0%,0%,0%)' points='545.288,218.562 880.9,218.562 ' />\n",
        "</g>\n",
        "<g transform='matrix(1.000000, 0.000000, 0.000000, 1.000000, 0.000000, 0.000000)' clip-path='url(#cp32)'>\n",
        "<clipPath id='cp32'><polygon points='522,113 522,325 882,325 882,113 ' /></clipPath>\n",
        "<polyline fill='none' stroke-opacity='1' stroke-width='0.2px' stroke='rgb(0%,0%,0%)' points='552,318.123 555.975,318.123 ' />\n",
        "</g>\n",
        "<g transform='matrix(1.000000, 0.000000, 0.000000, 1.000000, 523.000000, 312.123004)' clip-path='url(#cp33)'>\n",
        "<clipPath id='cp33'><polygon points='-1,-1.123 -1,12.877 27,12.877 27,-1.123 ' /></clipPath>\n",
        "<text x='1' y='10' font-family='SVGTimes' font-size='10px' fill='rgb(0%,0%,0%)'>-</text>\n",
        "</g>\n",
        "<g transform='matrix(1.000000, 0.000000, 0.000000, 1.000000, 523.000000, 312.123004)' clip-path='url(#cp34)'>\n",
        "<clipPath id='cp34'><polygon points='-1,-1.123 -1,12.877 27,12.877 27,-1.123 ' /></clipPath>\n",
        "<text x='10' y='10' font-family='Times' font-size='10px' fill='rgb(0%,0%,0%)'>1.0</text>\n",
        "</g>\n",
        "<g transform='matrix(1.000000, 0.000000, 0.000000, 1.000000, 0.000000, 0.000000)' clip-path='url(#cp35)'>\n",
        "<clipPath id='cp35'><polygon points='522,113 522,325 882,325 882,113 ' /></clipPath>\n",
        "<polyline fill='none' stroke-opacity='1' stroke-width='0.2px' stroke='rgb(0%,0%,0%)' points='552,308.167 554.385,308.167 ' />\n",
        "</g>\n",
        "<g transform='matrix(1.000000, 0.000000, 0.000000, 1.000000, 0.000000, 0.000000)' clip-path='url(#cp36)'>\n",
        "<clipPath id='cp36'><polygon points='522,113 522,325 882,325 882,113 ' /></clipPath>\n",
        "<polyline fill='none' stroke-opacity='1' stroke-width='0.2px' stroke='rgb(0%,0%,0%)' points='552,298.211 554.385,298.211 ' />\n",
        "</g>\n",
        "<g transform='matrix(1.000000, 0.000000, 0.000000, 1.000000, 0.000000, 0.000000)' clip-path='url(#cp37)'>\n",
        "<clipPath id='cp37'><polygon points='522,113 522,325 882,325 882,113 ' /></clipPath>\n",
        "<polyline fill='none' stroke-opacity='1' stroke-width='0.2px' stroke='rgb(0%,0%,0%)' points='552,288.255 554.385,288.255 ' />\n",
        "</g>\n",
        "<g transform='matrix(1.000000, 0.000000, 0.000000, 1.000000, 0.000000, 0.000000)' clip-path='url(#cp38)'>\n",
        "<clipPath id='cp38'><polygon points='522,113 522,325 882,325 882,113 ' /></clipPath>\n",
        "<polyline fill='none' stroke-opacity='1' stroke-width='0.2px' stroke='rgb(0%,0%,0%)' points='552,278.298 554.385,278.298 ' />\n",
        "</g>\n",
        "<g transform='matrix(1.000000, 0.000000, 0.000000, 1.000000, 0.000000, 0.000000)' clip-path='url(#cp39)'>\n",
        "<clipPath id='cp39'><polygon points='522,113 522,325 882,325 882,113 ' /></clipPath>\n",
        "<polyline fill='none' stroke-opacity='1' stroke-width='0.2px' stroke='rgb(0%,0%,0%)' points='552,268.342 555.975,268.342 ' />\n",
        "</g>\n",
        "<g transform='matrix(1.000000, 0.000000, 0.000000, 1.000000, 522.000000, 262.342253)' clip-path='url(#cp40)'>\n",
        "<clipPath id='cp40'><polygon points='0,-1.34225 0,12.6577 28,12.6577 28,-1.34225 ' /></clipPath>\n",
        "<text x='1' y='10' font-family='SVGTimes' font-size='10px' fill='rgb(0%,0%,0%)'>-</text>\n",
        "</g>\n",
        "<g transform='matrix(1.000000, 0.000000, 0.000000, 1.000000, 522.000000, 262.342253)' clip-path='url(#cp41)'>\n",
        "<clipPath id='cp41'><polygon points='0,-1.34225 0,12.6577 28,12.6577 28,-1.34225 ' /></clipPath>\n",
        "<text x='11' y='10' font-family='Times' font-size='10px' fill='rgb(0%,0%,0%)'>0.5</text>\n",
        "</g>\n",
        "<g transform='matrix(1.000000, 0.000000, 0.000000, 1.000000, 0.000000, 0.000000)' clip-path='url(#cp42)'>\n",
        "<clipPath id='cp42'><polygon points='522,113 522,325 882,325 882,113 ' /></clipPath>\n",
        "<polyline fill='none' stroke-opacity='1' stroke-width='0.2px' stroke='rgb(0%,0%,0%)' points='552,258.386 554.385,258.386 ' />\n",
        "</g>\n",
        "<g transform='matrix(1.000000, 0.000000, 0.000000, 1.000000, 0.000000, 0.000000)' clip-path='url(#cp43)'>\n",
        "<clipPath id='cp43'><polygon points='522,113 522,325 882,325 882,113 ' /></clipPath>\n",
        "<polyline fill='none' stroke-opacity='1' stroke-width='0.2px' stroke='rgb(0%,0%,0%)' points='552,248.43 554.385,248.43 ' />\n",
        "</g>\n",
        "<g transform='matrix(1.000000, 0.000000, 0.000000, 1.000000, 0.000000, 0.000000)' clip-path='url(#cp44)'>\n",
        "<clipPath id='cp44'><polygon points='522,113 522,325 882,325 882,113 ' /></clipPath>\n",
        "<polyline fill='none' stroke-opacity='1' stroke-width='0.2px' stroke='rgb(0%,0%,0%)' points='552,238.474 554.385,238.474 ' />\n",
        "</g>\n",
        "<g transform='matrix(1.000000, 0.000000, 0.000000, 1.000000, 0.000000, 0.000000)' clip-path='url(#cp45)'>\n",
        "<clipPath id='cp45'><polygon points='522,113 522,325 882,325 882,113 ' /></clipPath>\n",
        "<polyline fill='none' stroke-opacity='1' stroke-width='0.2px' stroke='rgb(0%,0%,0%)' points='552,228.518 554.385,228.518 ' />\n",
        "</g>\n",
        "<g transform='matrix(1.000000, 0.000000, 0.000000, 1.000000, 0.000000, 0.000000)' clip-path='url(#cp46)'>\n",
        "<clipPath id='cp46'><polygon points='522,113 522,325 882,325 882,113 ' /></clipPath>\n",
        "<polyline fill='none' stroke-opacity='1' stroke-width='0.2px' stroke='rgb(0%,0%,0%)' points='552,218.562 555.975,218.562 ' />\n",
        "</g>\n",
        "<g transform='matrix(1.000000, 0.000000, 0.000000, 1.000000, 0.000000, 0.000000)' clip-path='url(#cp47)'>\n",
        "<clipPath id='cp47'><polygon points='522,113 522,325 882,325 882,113 ' /></clipPath>\n",
        "<polyline fill='none' stroke-opacity='1' stroke-width='0.2px' stroke='rgb(0%,0%,0%)' points='552,208.605 554.385,208.605 ' />\n",
        "</g>\n",
        "<g transform='matrix(1.000000, 0.000000, 0.000000, 1.000000, 0.000000, 0.000000)' clip-path='url(#cp48)'>\n",
        "<clipPath id='cp48'><polygon points='522,113 522,325 882,325 882,113 ' /></clipPath>\n",
        "<polyline fill='none' stroke-opacity='1' stroke-width='0.2px' stroke='rgb(0%,0%,0%)' points='552,198.649 554.385,198.649 ' />\n",
        "</g>\n",
        "<g transform='matrix(1.000000, 0.000000, 0.000000, 1.000000, 0.000000, 0.000000)' clip-path='url(#cp49)'>\n",
        "<clipPath id='cp49'><polygon points='522,113 522,325 882,325 882,113 ' /></clipPath>\n",
        "<polyline fill='none' stroke-opacity='1' stroke-width='0.2px' stroke='rgb(0%,0%,0%)' points='552,188.693 554.385,188.693 ' />\n",
        "</g>\n",
        "<g transform='matrix(1.000000, 0.000000, 0.000000, 1.000000, 0.000000, 0.000000)' clip-path='url(#cp50)'>\n",
        "<clipPath id='cp50'><polygon points='522,113 522,325 882,325 882,113 ' /></clipPath>\n",
        "<polyline fill='none' stroke-opacity='1' stroke-width='0.2px' stroke='rgb(0%,0%,0%)' points='552,178.737 554.385,178.737 ' />\n",
        "</g>\n",
        "<g transform='matrix(1.000000, 0.000000, 0.000000, 1.000000, 0.000000, 0.000000)' clip-path='url(#cp51)'>\n",
        "<clipPath id='cp51'><polygon points='522,113 522,325 882,325 882,113 ' /></clipPath>\n",
        "<polyline fill='none' stroke-opacity='1' stroke-width='0.2px' stroke='rgb(0%,0%,0%)' points='552,168.781 555.975,168.781 ' />\n",
        "</g>\n",
        "<g transform='matrix(1.000000, 0.000000, 0.000000, 1.000000, 532.000000, 162.780751)' clip-path='url(#cp52)'>\n",
        "<clipPath id='cp52'><polygon points='-1,-0.780751 -1,13.2192 18,13.2192 18,-0.780751 ' /></clipPath>\n",
        "<text x='1' y='10' font-family='Times' font-size='10px' fill='rgb(0%,0%,0%)'>0.5</text>\n",
        "</g>\n",
        "<g transform='matrix(1.000000, 0.000000, 0.000000, 1.000000, 0.000000, 0.000000)' clip-path='url(#cp53)'>\n",
        "<clipPath id='cp53'><polygon points='522,113 522,325 882,325 882,113 ' /></clipPath>\n",
        "<polyline fill='none' stroke-opacity='1' stroke-width='0.2px' stroke='rgb(0%,0%,0%)' points='552,158.825 554.385,158.825 ' />\n",
        "</g>\n",
        "<g transform='matrix(1.000000, 0.000000, 0.000000, 1.000000, 0.000000, 0.000000)' clip-path='url(#cp54)'>\n",
        "<clipPath id='cp54'><polygon points='522,113 522,325 882,325 882,113 ' /></clipPath>\n",
        "<polyline fill='none' stroke-opacity='1' stroke-width='0.2px' stroke='rgb(0%,0%,0%)' points='552,148.868 554.385,148.868 ' />\n",
        "</g>\n",
        "<g transform='matrix(1.000000, 0.000000, 0.000000, 1.000000, 0.000000, 0.000000)' clip-path='url(#cp55)'>\n",
        "<clipPath id='cp55'><polygon points='522,113 522,325 882,325 882,113 ' /></clipPath>\n",
        "<polyline fill='none' stroke-opacity='1' stroke-width='0.2px' stroke='rgb(0%,0%,0%)' points='552,138.912 554.385,138.912 ' />\n",
        "</g>\n",
        "<g transform='matrix(1.000000, 0.000000, 0.000000, 1.000000, 0.000000, 0.000000)' clip-path='url(#cp56)'>\n",
        "<clipPath id='cp56'><polygon points='522,113 522,325 882,325 882,113 ' /></clipPath>\n",
        "<polyline fill='none' stroke-opacity='1' stroke-width='0.2px' stroke='rgb(0%,0%,0%)' points='552,128.956 554.385,128.956 ' />\n",
        "</g>\n",
        "<g transform='matrix(1.000000, 0.000000, 0.000000, 1.000000, 0.000000, 0.000000)' clip-path='url(#cp57)'>\n",
        "<clipPath id='cp57'><polygon points='522,113 522,325 882,325 882,113 ' /></clipPath>\n",
        "<polyline fill='none' stroke-opacity='1' stroke-width='0.2px' stroke='rgb(0%,0%,0%)' points='552,119 555.975,119 ' />\n",
        "</g>\n",
        "<g transform='matrix(1.000000, 0.000000, 0.000000, 1.000000, 533.000000, 113.000000)' clip-path='url(#cp58)'>\n",
        "<clipPath id='cp58'><polygon points='-1,5.68434e-14 -1,13 17,13 17,5.68434e-14 ' /></clipPath>\n",
        "<text x='0' y='10' font-family='Times' font-size='10px' fill='rgb(0%,0%,0%)'>1.0</text>\n",
        "</g>\n",
        "<g transform='matrix(1.000000, 0.000000, 0.000000, 1.000000, 0.000000, 0.000000)' clip-path='url(#cp59)'>\n",
        "<clipPath id='cp59'><polygon points='522,113 522,325 882,325 882,113 ' /></clipPath>\n",
        "<polyline fill='none' stroke-opacity='1' stroke-width='0.2px' stroke='rgb(0%,0%,0%)' points='552,322.271 552,114.852 ' />\n",
        "</g>\n",
        "</g>\n",
        "<defs>\n",
        "<font id=\"SVGTimesFont\" horiz-adv-x=\"1024\">\n",
        "\t<font-face font-family='SVGTimes' units-per-em='2048' font-weight='normal' />\n",
        "\t<missing-glyph d='M128 0V1638H896V0H128ZM256 128H768V1510H256V128Z' />\n",
        "<glyph unicode='&#45;'\n",
        "       horiz-adv-x='1229'\n",
        "       d='M1024 414H205V489H1024V414Z'/>\n",
        "</font>\n",
        "</defs>\n",
        "</svg>"
       ]
      }
     ],
     "prompt_number": 15
    },
    {
     "cell_type": "markdown",
     "metadata": {},
     "source": [
      "Beware using semicolons after plots, because this produces no output, there is nothing for IPython to display!"
     ]
    },
    {
     "cell_type": "code",
     "collapsed": false,
     "input": [
      "%%mathematica\n",
      "Plot[Sin[x],{x,0,10}];"
     ],
     "language": "python",
     "metadata": {},
     "outputs": [],
     "prompt_number": 16
    },
    {
     "cell_type": "markdown",
     "metadata": {},
     "source": [
      "Note also that when using the line magic `%mathematica` a large amount of output can be created. You can use the -p flag to supress it's display"
     ]
    },
    {
     "cell_type": "code",
     "collapsed": false,
     "input": [
      "%mathematica -p True GraphPlot[List[Rule[1, 2], Rule[1, 4], Rule[2, 4], Rule[3, 4], Rule[3, 2], Rule[3, 5], Rule[5, 1]], Rule[VertexLabeling,True]]"
     ],
     "language": "python",
     "metadata": {},
     "outputs": [
      {
       "output_type": "display_data",
       "png": "[encoded data removed]"
      },
      {
       "output_type": "pyout",
       "prompt_number": 17,
       "text": [
        "{'Graphics': [{'Annotation': [{'GraphicsComplex': [[[0.831024290511459,\n",
        "        0.9798092121668287],\n",
        "       [0.0, 0.8471801644068757],\n",
        "       [0.00028568480148649655, 0.13216556215835384],\n",
        "       [0.8298424852249722, 0.0],\n",
        "       [1.7738145397641052, 0.48917294678284695]],\n",
        "      [[{'RGBColor': [0.5, 0.0, 0.0]},\n",
        "        {'Line': [[[1, 2], [1, 3], [2, 3], [4, 3], [4, 2], [4, 5], [5, 1]]]}],\n",
        "       [{'Text': [{'Framed': [1,\n",
        "            [{'Background->RGBColor': [1, 1, 0.8]},\n",
        "             {'FrameStyle->RGBColor': [0.94, 0.85, 0.36]},\n",
        "             'FrameMargins->Automatic']]},\n",
        "          1]},\n",
        "        {'Text': [{'Framed': [2,\n",
        "            [{'Background->RGBColor': [1, 1, 0.8]},\n",
        "             {'FrameStyle->RGBColor': [0.94, 0.85, 0.36]},\n",
        "             'FrameMargins->Automatic']]},\n",
        "          2]},\n",
        "        {'Text': [{'Framed': [4,\n",
        "            [{'Background->RGBColor': [1, 1, 0.8]},\n",
        "             {'FrameStyle->RGBColor': [0.94, 0.85, 0.36]},\n",
        "             'FrameMargins->Automatic']]},\n",
        "          3]},\n",
        "        {'Text': [{'Framed': [3,\n",
        "            [{'Background->RGBColor': [1, 1, 0.8]},\n",
        "             {'FrameStyle->RGBColor': [0.94, 0.85, 0.36]},\n",
        "             'FrameMargins->Automatic']]},\n",
        "          4]},\n",
        "        {'Text': [{'Framed': [5,\n",
        "            [{'Background->RGBColor': [1, 1, 0.8]},\n",
        "             {'FrameStyle->RGBColor': [0.94, 0.85, 0.36]},\n",
        "             'FrameMargins->Automatic']]},\n",
        "          5]}]],\n",
        "      ['']]},\n",
        "    {'VertexCoordinateRules->List': [[0.831024290511459, 0.9798092121668287],\n",
        "      [0.0, 0.8471801644068757],\n",
        "      [0.00028568480148649655, 0.13216556215835384],\n",
        "      [0.8298424852249722, 0.0],\n",
        "      [1.7738145397641052, 0.48917294678284695]]}]},\n",
        "  'FrameTicks->None',\n",
        "  'PlotRange->All',\n",
        "  {'PlotRangePadding->Scaled': [0.1]},\n",
        "  'AspectRatio->Automatic']}"
       ]
      }
     ],
     "prompt_number": 17
    },
    {
     "cell_type": "code",
     "collapsed": false,
     "input": [
      "%mathematica -p False GraphPlot[List[Rule[1, 2], Rule[1, 4], Rule[2, 4], Rule[3, 4], Rule[3, 2], Rule[3, 5], Rule[5, 1]], Rule[VertexLabeling,True]]"
     ],
     "language": "python",
     "metadata": {},
     "outputs": [
      {
       "output_type": "display_data",
       "png": "[encoded data removed]"
      }
     ],
     "prompt_number": 18
    },
    {
     "cell_type": "markdown",
     "metadata": {},
     "source": [
      "Plot size can be adjusted with the -s flag."
     ]
    },
    {
     "cell_type": "code",
     "collapsed": false,
     "input": [
      "%%mathematica -s 200,200\n",
      "Table[Graphics3D[List[Yellow, Opacity[.8], PolyhedronData[p, \"Faces\"]]], List[p, List[\"Dodecahedron\", \"Icosahedron\", \"TruncatedIcosahedron\"]]]\n",
      "Graphics3D[ Table[With[List[p = List[i, j, k]/5], List[RGBColor[p], Opacity[.9], Cuboid[p, p + .15]]], List[i, 5], List[j, 5], List[k, 5]]]"
     ],
     "language": "python",
     "metadata": {},
     "outputs": [
      {
       "output_type": "display_data",
       "png": "[encoded data removed]"
      },
      {
       "output_type": "display_data",
       "png": "[encoded data removed]"
      },
      {
       "output_type": "display_data",
       "png": "[encoded data removed]"
      },
      {
       "output_type": "display_data",
       "png": "[encoded data removed]"
      }
     ],
     "prompt_number": 19
    },
    {
     "cell_type": "markdown",
     "metadata": {},
     "source": [
      "Any Mathematica that produces a `Graphics`, `Graphics3D`, `Image`, or `Grid` expression will be rendered!"
     ]
    },
    {
     "cell_type": "code",
     "collapsed": false,
     "input": [
      "%mathematica -p False Image[CellularAutomaton[110, List[List[1], 0], 50], \"Bit\"]"
     ],
     "language": "python",
     "metadata": {},
     "outputs": [
      {
       "output_type": "display_data",
       "png": "[encoded data removed]"
      }
     ],
     "prompt_number": 20
    },
    {
     "cell_type": "code",
     "collapsed": false,
     "input": [
      "%%mathematica \n",
      "Grid[Table[\n",
      "  RandomChoice[{SpanFromLeft, SpanFromAbove, \n",
      "    Item[RandomInteger[1000], \n",
      "     Background -> Hue[RandomReal[], .2, .9]]}], {20}, {12}], \n",
      " Frame -> All]"
     ],
     "language": "python",
     "metadata": {},
     "outputs": [
      {
       "output_type": "display_data",
       "png": "[encoded data removed]"
      }
     ],
     "prompt_number": 21
    },
    {
     "cell_type": "heading",
     "level": 2,
     "metadata": {},
     "source": [
      "Future Work"
     ]
    },
    {
     "cell_type": "markdown",
     "metadata": {},
     "source": [
      "As `pythonica` expands this extension will be able to handle more and more python type conversions and recognize Mathematica Functions."
     ]
    }
   ],
   "metadata": {}
  }
 ]
}